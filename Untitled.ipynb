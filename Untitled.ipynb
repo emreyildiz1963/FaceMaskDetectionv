{
 "cells": [
  {
   "cell_type": "code",
   "execution_count": 1,
   "metadata": {},
   "outputs": [],
   "source": [
    "from keras.optimizers import RMSprop\n",
    "from keras.preprocessing.image import ImageDataGenerator\n",
    "import cv2\n",
    "from keras.models import Sequential\n",
    "from keras.layers import Conv2D, Input, ZeroPadding2D, BatchNormalization, Activation, MaxPooling2D, Flatten, Dense,Dropout\n",
    "from keras.models import Model, load_model\n",
    "from keras.callbacks import TensorBoard, ModelCheckpoint\n",
    "from sklearn.model_selection import train_test_split\n",
    "from sklearn.metrics import f1_score\n",
    "from sklearn.utils import shuffle\n",
    "import imutils\n",
    "import numpy as np\n",
    "from keras.callbacks import TensorBoard\n",
    "import datetime\n",
    "import tensorflow as tf"
   ]
  },
  {
   "cell_type": "code",
   "execution_count": 2,
   "metadata": {},
   "outputs": [],
   "source": [
    "model = Sequential([\n",
    "    Conv2D(100, (3,3), activation='relu', input_shape=(150, 150, 3)),\n",
    "    MaxPooling2D(2,2),\n",
    "    \n",
    "    Conv2D(100, (3,3), activation='relu'),\n",
    "    MaxPooling2D(2,2),\n",
    "    \n",
    "    Flatten(),\n",
    "    Dropout(0.5),\n",
    "    Dense(50, activation='relu'),\n",
    "    Dense(2, activation='softmax')\n",
    "])\n",
    "model.compile(optimizer='adam', loss='binary_crossentropy', metrics=['acc'])"
   ]
  },
  {
   "cell_type": "code",
   "execution_count": 3,
   "metadata": {},
   "outputs": [
    {
     "name": "stdout",
     "output_type": "stream",
     "text": [
      "Found 375 images belonging to 2 classes.\n",
      "Found 194 images belonging to 2 classes.\n"
     ]
    }
   ],
   "source": [
    "TRAINING_DIR = \"./train\"\n",
    "train_datagen = ImageDataGenerator(rescale=1.0/255,\n",
    "                                   rotation_range=40,\n",
    "                                   width_shift_range=0.2,\n",
    "                                   height_shift_range=0.2,\n",
    "                                   shear_range=0.2,\n",
    "                                   zoom_range=0.2,\n",
    "                                   horizontal_flip=True,\n",
    "                                   fill_mode='nearest')\n",
    "\n",
    "train_generator = train_datagen.flow_from_directory(TRAINING_DIR, \n",
    "                                                    batch_size=10, \n",
    "                                                    target_size=(150, 150))\n",
    "VALIDATION_DIR = \"./test\"\n",
    "validation_datagen = ImageDataGenerator(rescale=1.0/255)\n",
    "\n",
    "validation_generator = validation_datagen.flow_from_directory(VALIDATION_DIR, \n",
    "                                                         batch_size=10, \n",
    "                                                         target_size=(150, 150))"
   ]
  },
  {
   "cell_type": "code",
   "execution_count": 6,
   "metadata": {},
   "outputs": [],
   "source": [
    "checkpoint = ModelCheckpoint('checkpoint/model.model',verbose=1,save_best_only=True,mode='auto')\n",
    "\n",
    "log_dir = \"logs/fit/\" + datetime.datetime.now().strftime(\"%Y%m%d-%H%M%S\")\n",
    "tensorboard_callback = tf.keras.callbacks.TensorBoard(log_dir=log_dir, histogram_freq=1)"
   ]
  },
  {
   "cell_type": "code",
   "execution_count": 8,
   "metadata": {},
   "outputs": [
    {
     "name": "stdout",
     "output_type": "stream",
     "text": [
      "Epoch 1/10\n",
      "375/375 [==============================] - 7s 19ms/step - loss: 0.6478 - acc: 0.5627 - val_loss: 0.6109 - val_acc: 0.5825\n",
      "Epoch 2/10\n",
      "375/375 [==============================] - 7s 18ms/step - loss: 0.6819 - acc: 0.5520 - val_loss: 0.6484 - val_acc: 0.5052\n",
      "Epoch 3/10\n",
      "375/375 [==============================] - 8s 20ms/step - loss: 0.6654 - acc: 0.5653 - val_loss: 0.6228 - val_acc: 0.5361\n",
      "Epoch 4/10\n",
      "375/375 [==============================] - 7s 19ms/step - loss: 0.6465 - acc: 0.6080 - val_loss: 0.6096 - val_acc: 0.6701\n",
      "Epoch 5/10\n",
      "375/375 [==============================] - 7s 19ms/step - loss: 0.6103 - acc: 0.6800 - val_loss: 0.6220 - val_acc: 0.6392\n",
      "Epoch 6/10\n",
      "375/375 [==============================] - 7s 19ms/step - loss: 0.6152 - acc: 0.6747 - val_loss: 0.8109 - val_acc: 0.6186\n",
      "Epoch 7/10\n",
      "375/375 [==============================] - 7s 20ms/step - loss: 0.5497 - acc: 0.7360 - val_loss: 0.6672 - val_acc: 0.6753\n",
      "Epoch 8/10\n",
      "375/375 [==============================] - 8s 22ms/step - loss: 0.5335 - acc: 0.7840 - val_loss: 0.4357 - val_acc: 0.8608\n",
      "Epoch 9/10\n",
      "375/375 [==============================] - 8s 20ms/step - loss: 0.4942 - acc: 0.7947 - val_loss: 0.4300 - val_acc: 0.7990\n",
      "Epoch 10/10\n",
      "375/375 [==============================] - 7s 19ms/step - loss: 0.4920 - acc: 0.7760 - val_loss: 0.3765 - val_acc: 0.8454\n",
      "INFO:tensorflow:Assets written to: ./checkpoint/model.model\\assets\n"
     ]
    }
   ],
   "source": [
    "model.fit(train_generator, epochs=10, validation_data=validation_generator, callbacks=[tensorboard_callback])\n",
    "model.save(\"./checkpoint/model.model\")\n"
   ]
  },
  {
   "cell_type": "code",
   "execution_count": null,
   "metadata": {},
   "outputs": [],
   "source": []
  },
  {
   "cell_type": "code",
   "execution_count": null,
   "metadata": {},
   "outputs": [],
   "source": []
  }
 ],
 "metadata": {
  "kernelspec": {
   "display_name": "Python 3",
   "language": "python",
   "name": "python3"
  },
  "language_info": {
   "codemirror_mode": {
    "name": "ipython",
    "version": 3
   },
   "file_extension": ".py",
   "mimetype": "text/x-python",
   "name": "python",
   "nbconvert_exporter": "python",
   "pygments_lexer": "ipython3",
   "version": "3.8.5"
  }
 },
 "nbformat": 4,
 "nbformat_minor": 4
}
